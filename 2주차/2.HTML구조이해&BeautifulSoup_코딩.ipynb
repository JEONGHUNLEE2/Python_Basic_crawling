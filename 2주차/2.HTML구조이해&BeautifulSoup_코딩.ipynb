{
 "cells": [
  {
   "cell_type": "code",
   "execution_count": 1,
   "metadata": {},
   "outputs": [],
   "source": [
    "from selenium import webdriver"
   ]
  },
  {
   "cell_type": "code",
   "execution_count": 2,
   "metadata": {},
   "outputs": [],
   "source": [
    "browser = webdriver.Chrome('C:/informs/chromedriver.exe')"
   ]
  },
  {
   "cell_type": "code",
   "execution_count": 4,
   "metadata": {},
   "outputs": [],
   "source": [
    "url = 'https://naver.com'\n",
    "browser.get(url)"
   ]
  },
  {
   "cell_type": "code",
   "execution_count": null,
   "metadata": {},
   "outputs": [],
   "source": [
    "#HTML 특징\n",
    "\n",
    "<태그명> </태그명> #시작 ~ 끝을 알 수 있음.\n",
    "\n",
    "<태그명 속성=값> </태그명> #속성이 들어갈 수 있음.\n",
    "<태그명 속성=값 속성=값 속성=값> </태그명> #속성이 여러개 들어갈 수 있음.\n",
    "\n",
    "<태그1> \n",
    "    <태그2> </태그2>\n",
    "    <태그3>\n",
    "        <태그4></태그4>\n",
    "    </태그3>\n",
    "</태그1>\n",
    "\n",
    "</태그>\n",
    "\n",
    "<태그>장남수</태그> #--> 화면에는 \"장남수\"\n",
    "\n",
    "<p>\n",
    "    <span class = 'name'>장남수</span> \n",
    "    # 태그명이 span인거 찾아줘...\n",
    "    # 태그명이 span & class속성값이 name인거 찾아줘\n",
    "    # 태그명이 span & class 속성값이 name인거.. 그러면서 부모 태그가 p인거\n",
    "<p>"
   ]
  },
  {
   "cell_type": "code",
   "execution_count": 5,
   "metadata": {},
   "outputs": [],
   "source": [
    "from bs4 import BeautifulSoup #B S 대문자"
   ]
  },
  {
   "cell_type": "code",
   "execution_count": 6,
   "metadata": {},
   "outputs": [],
   "source": [
    "#예시) 러닝스푼즈 데이터분석입문 강의 \n",
    "html = '''\n",
    "<h1> HTML예시  </h1>\n",
    "    <span> 파이썬 입문부터 시작하는 데이터 분석 마스터</span>\n",
    "    <p id=\"weeks1\" class=\"seminar\" title=\"first\"> 1주차\n",
    "        <span class = \"title\"> 파이썬 맛보기 </span>\n",
    "        <span class = \"presenter\"> 장남수 </span>\n",
    "        <span class = \"date\"> 1월1일 </span>\n",
    "        <span class = \"point\"> 파이썬 설치 사전 안내 </span>\n",
    "        <a href = \"https://kiddwannabe.blog.me/221154599192\">네이버 블로그-아나콘다설치</a>\n",
    "    </p>\n",
    "    <p id=\"weeks2\" class=\"seminar\" title=\"second\"> 2주차\n",
    "        <span class = \"title\"> 크롤링 해보기 </span>\n",
    "        <span class = \"presenter\"> 장남수 </span>\n",
    "        <span class = \"date\"> 1월2일 </span>\n",
    "        <span class = \"point\"> selenium / html </span>\n",
    "        <a href = \"https://kiddwannabe.blog.me/221177292446\">네이버 블로그-크롤링</a>\n",
    "    </p>\n",
    "    <p id=\"weeks3\" class=\"seminar\" title=\"third\"> 3주차\n",
    "        <span class = \"title\"> 크롤링 실습 </span>\n",
    "        <span class = \"presenter\"> 장남수 </span>\n",
    "        <span class = \"date\"> 1월3일 </span>\n",
    "        <span class = \"point\"> 노래순위, 베스트셀러 </span>\n",
    "        <a href = \"https://kiddwannabe.blog.me/\">네이버 블로그</a>\n",
    "    </p>\n",
    "    <p id=\"weeks4\" class=\"seminar\" title=\"fourth\"> 4주차\n",
    "        <span class = \"title\"> 판다스 살펴보기 </span>\n",
    "        <span class = \"presenter\"> 장남수 </span>\n",
    "        <span class = \"date\"> 1월4일 </span>\n",
    "        <span class = \"point\"> pandas </span>\n",
    "        <a href = \"https://kiddwannabe.blog.me/\">네이버 블로그</a>\n",
    "    </p>\n",
    "    <p id=\"weeks5\" class=\"seminar\" title=\"fifth\"> 5주차\n",
    "        <span class = \"title\"> 상가 업력 분석하기 </span>\n",
    "        <span class = \"presenter\"> 장남수 </span>\n",
    "        <span class = \"date\"> 1월5일 </span>\n",
    "        <span class = \"point\"> 공공데이터 분석 </span>\n",
    "        <a href = \"https://kiddwannabe.blog.me/\">네이버 블로그</a>\n",
    "    </p>            \n",
    "    <p id=\"weeks6\" class=\"seminar\" title=\"sixth\"> 6주차\n",
    "        <span class = \"title\"> 데이터 시각화 </span>\n",
    "        <span class = \"presenter\"> 장남수 </span>\n",
    "        <span class = \"date\"> 1월6일 </span>\n",
    "        <span class = \"point\"> seaborn </span>\n",
    "        <a href = \"https://kiddwannabe.blog.me/221728411362\">네이버 블로그-seaborn</a>\n",
    "    </p>  \n",
    "    <p id=\"weeks7\" class=\"seminar\" title=\"seventh\"> 7주차\n",
    "        <span class = \"title\"> 네이버 쇼핑몰 수집/분석 </span>\n",
    "        <span class = \"presenter\"> 장남수 </span>\n",
    "        <span class = \"date\"> 1월7일 </span>\n",
    "        <span class = \"point\"> youtube </span>\n",
    "        <a href = \"https://kiddwannabe.blog.me/\">네이버 블로그</a>\n",
    "    </p> \n",
    "</h1>\n",
    "'''"
   ]
  },
  {
   "cell_type": "code",
   "execution_count": 7,
   "metadata": {},
   "outputs": [
    {
     "data": {
      "text/plain": [
       "'\\n<h1> HTML예시  </h1>\\n    <span> 파이썬 입문부터 시작하는 데이터 분석 마스터</span>\\n    <p id=\"weeks1\" class=\"seminar\" title=\"first\"> 1주차\\n        <span class = \"title\"> 파이썬 맛보기 </span>\\n        <span class = \"presenter\"> 장남수 </span>\\n        <span class = \"date\"> 1월1일 </span>\\n        <span class = \"point\"> 파이썬 설치 사전 안내 </span>\\n        <a href = \"https://kiddwannabe.blog.me/221154599192\">네이버 블로그-아나콘다설치</a>\\n    </p>\\n    <p id=\"weeks2\" class=\"seminar\" title=\"second\"> 2주차\\n        <span class = \"title\"> 크롤링 해보기 </span>\\n        <span class = \"presenter\"> 장남수 </span>\\n        <span class = \"date\"> 1월2일 </span>\\n        <span class = \"point\"> selenium / html </span>\\n        <a href = \"https://kiddwannabe.blog.me/221177292446\">네이버 블로그-크롤링</a>\\n    </p>\\n    <p id=\"weeks3\" class=\"seminar\" title=\"third\"> 3주차\\n        <span class = \"title\"> 크롤링 실습 </span>\\n        <span class = \"presenter\"> 장남수 </span>\\n        <span class = \"date\"> 1월3일 </span>\\n        <span class = \"point\"> 노래순위, 베스트셀러 </span>\\n        <a href = \"https://kiddwannabe.blog.me/\">네이버 블로그</a>\\n    </p>\\n    <p id=\"weeks4\" class=\"seminar\" title=\"fourth\"> 4주차\\n        <span class = \"title\"> 판다스 살펴보기 </span>\\n        <span class = \"presenter\"> 장남수 </span>\\n        <span class = \"date\"> 1월4일 </span>\\n        <span class = \"point\"> pandas </span>\\n        <a href = \"https://kiddwannabe.blog.me/\">네이버 블로그</a>\\n    </p>\\n    <p id=\"weeks5\" class=\"seminar\" title=\"fifth\"> 5주차\\n        <span class = \"title\"> 상가 업력 분석하기 </span>\\n        <span class = \"presenter\"> 장남수 </span>\\n        <span class = \"date\"> 1월5일 </span>\\n        <span class = \"point\"> 공공데이터 분석 </span>\\n        <a href = \"https://kiddwannabe.blog.me/\">네이버 블로그</a>\\n    </p>            \\n    <p id=\"weeks6\" class=\"seminar\" title=\"sixth\"> 6주차\\n        <span class = \"title\"> 데이터 시각화 </span>\\n        <span class = \"presenter\"> 장남수 </span>\\n        <span class = \"date\"> 1월6일 </span>\\n        <span class = \"point\"> seaborn </span>\\n        <a href = \"https://kiddwannabe.blog.me/221728411362\">네이버 블로그-seaborn</a>\\n    </p>  \\n    <p id=\"weeks7\" class=\"seminar\" title=\"seventh\"> 7주차\\n        <span class = \"title\"> 네이버 쇼핑몰 수집/분석 </span>\\n        <span class = \"presenter\"> 장남수 </span>\\n        <span class = \"date\"> 1월7일 </span>\\n        <span class = \"point\"> youtube </span>\\n        <a href = \"https://kiddwannabe.blog.me/\">네이버 블로그</a>\\n    </p> \\n</h1>\\n'"
      ]
     },
     "execution_count": 7,
     "metadata": {},
     "output_type": "execute_result"
    }
   ],
   "source": [
    "html"
   ]
  },
  {
   "cell_type": "code",
   "execution_count": 3,
   "metadata": {},
   "outputs": [],
   "source": [
    "from bs4 import BeautifulSoup #B S 대문자"
   ]
  },
  {
   "cell_type": "code",
   "execution_count": 8,
   "metadata": {},
   "outputs": [
    {
     "data": {
      "text/plain": [
       "\n",
       "<h1> HTML예시  </h1>\n",
       "<span> 파이썬 입문부터 시작하는 데이터 분석 마스터</span>\n",
       "<p class=\"seminar\" id=\"weeks1\" title=\"first\"> 1주차\n",
       "        <span class=\"title\"> 파이썬 맛보기 </span>\n",
       "<span class=\"presenter\"> 장남수 </span>\n",
       "<span class=\"date\"> 1월1일 </span>\n",
       "<span class=\"point\"> 파이썬 설치 사전 안내 </span>\n",
       "<a href=\"https://kiddwannabe.blog.me/221154599192\">네이버 블로그-아나콘다설치</a>\n",
       "</p>\n",
       "<p class=\"seminar\" id=\"weeks2\" title=\"second\"> 2주차\n",
       "        <span class=\"title\"> 크롤링 해보기 </span>\n",
       "<span class=\"presenter\"> 장남수 </span>\n",
       "<span class=\"date\"> 1월2일 </span>\n",
       "<span class=\"point\"> selenium / html </span>\n",
       "<a href=\"https://kiddwannabe.blog.me/221177292446\">네이버 블로그-크롤링</a>\n",
       "</p>\n",
       "<p class=\"seminar\" id=\"weeks3\" title=\"third\"> 3주차\n",
       "        <span class=\"title\"> 크롤링 실습 </span>\n",
       "<span class=\"presenter\"> 장남수 </span>\n",
       "<span class=\"date\"> 1월3일 </span>\n",
       "<span class=\"point\"> 노래순위, 베스트셀러 </span>\n",
       "<a href=\"https://kiddwannabe.blog.me/\">네이버 블로그</a>\n",
       "</p>\n",
       "<p class=\"seminar\" id=\"weeks4\" title=\"fourth\"> 4주차\n",
       "        <span class=\"title\"> 판다스 살펴보기 </span>\n",
       "<span class=\"presenter\"> 장남수 </span>\n",
       "<span class=\"date\"> 1월4일 </span>\n",
       "<span class=\"point\"> pandas </span>\n",
       "<a href=\"https://kiddwannabe.blog.me/\">네이버 블로그</a>\n",
       "</p>\n",
       "<p class=\"seminar\" id=\"weeks5\" title=\"fifth\"> 5주차\n",
       "        <span class=\"title\"> 상가 업력 분석하기 </span>\n",
       "<span class=\"presenter\"> 장남수 </span>\n",
       "<span class=\"date\"> 1월5일 </span>\n",
       "<span class=\"point\"> 공공데이터 분석 </span>\n",
       "<a href=\"https://kiddwannabe.blog.me/\">네이버 블로그</a>\n",
       "</p>\n",
       "<p class=\"seminar\" id=\"weeks6\" title=\"sixth\"> 6주차\n",
       "        <span class=\"title\"> 데이터 시각화 </span>\n",
       "<span class=\"presenter\"> 장남수 </span>\n",
       "<span class=\"date\"> 1월6일 </span>\n",
       "<span class=\"point\"> seaborn </span>\n",
       "<a href=\"https://kiddwannabe.blog.me/221728411362\">네이버 블로그-seaborn</a>\n",
       "</p>\n",
       "<p class=\"seminar\" id=\"weeks7\" title=\"seventh\"> 7주차\n",
       "        <span class=\"title\"> 네이버 쇼핑몰 수집/분석 </span>\n",
       "<span class=\"presenter\"> 장남수 </span>\n",
       "<span class=\"date\"> 1월7일 </span>\n",
       "<span class=\"point\"> youtube </span>\n",
       "<a href=\"https://kiddwannabe.blog.me/\">네이버 블로그</a>\n",
       "</p>\n"
      ]
     },
     "execution_count": 8,
     "metadata": {},
     "output_type": "execute_result"
    }
   ],
   "source": [
    "soup = BeautifulSoup(html,'html.parser') #parser 어떻게 해석할건지 \n",
    "soup"
   ]
  },
  {
   "cell_type": "code",
   "execution_count": 12,
   "metadata": {},
   "outputs": [
    {
     "data": {
      "text/plain": [
       "'네이버 블로그-크롤링'"
      ]
     },
     "execution_count": 12,
     "metadata": {},
     "output_type": "execute_result"
    }
   ],
   "source": [
    "#soup.select('태그 조건') #다 찾아줘.... -> 태그 1개 선택 -> tag.text\n",
    "#soup.select('태그명')\n",
    "#soup.select('태그명')[인덱스 숫자]\n",
    "\n",
    "#soup.select('a')[2] #<a href=\"https://kiddwannabe.blog.me/\">네이버 블로그</a>\n",
    "tag = soup.select('a')[1] #글자 출력\n",
    "tag.text"
   ]
  },
  {
   "cell_type": "code",
   "execution_count": 8,
   "metadata": {},
   "outputs": [
    {
     "name": "stdout",
     "output_type": "stream",
     "text": [
      "네이버 블로그-아나콘다설치\n",
      "네이버 블로그-크롤링\n",
      "네이버 블로그\n",
      "네이버 블로그\n",
      "네이버 블로그\n",
      "네이버 블로그-seaborn\n",
      "네이버 블로그\n"
     ]
    }
   ],
   "source": [
    "for tag in soup.select('a'):\n",
    "    print(tag.text)"
   ]
  },
  {
   "cell_type": "code",
   "execution_count": 14,
   "metadata": {},
   "outputs": [
    {
     "data": {
      "text/plain": [
       "[<span class=\"title\"> 파이썬 맛보기 </span>,\n",
       " <span class=\"title\"> 크롤링 해보기 </span>,\n",
       " <span class=\"title\"> 크롤링 실습 </span>,\n",
       " <span class=\"title\"> 판다스 살펴보기 </span>,\n",
       " <span class=\"title\"> 상가 업력 분석하기 </span>,\n",
       " <span class=\"title\"> 데이터 시각화 </span>,\n",
       " <span class=\"title\"> 네이버 쇼핑몰 수집/분석 </span>]"
      ]
     },
     "execution_count": 14,
     "metadata": {},
     "output_type": "execute_result"
    }
   ],
   "source": [
    "soup.select('span')\n",
    "soup.select('.title') #class 속성값이 title 인거 찾아줘! '.' = > class\n",
    "soup.select('span.title') #태그명이 span // & class 속성값이 title"
   ]
  },
  {
   "cell_type": "code",
   "execution_count": 10,
   "metadata": {},
   "outputs": [
    {
     "data": {
      "text/plain": [
       "[<span> 파이썬 입문부터 시작하는 데이터 분석 마스터</span>,\n",
       " <span class=\"title\"> 파이썬 맛보기 </span>,\n",
       " <span class=\"presenter\"> 장남수 </span>,\n",
       " <span class=\"date\"> 1월1일 </span>,\n",
       " <span class=\"point\"> 파이썬 설치 사전 안내 </span>,\n",
       " <span class=\"title\"> 크롤링 해보기 </span>,\n",
       " <span class=\"presenter\"> 장남수 </span>,\n",
       " <span class=\"date\"> 1월2일 </span>,\n",
       " <span class=\"point\"> selenium / html </span>,\n",
       " <span class=\"title\"> 크롤링 실습 </span>,\n",
       " <span class=\"presenter\"> 장남수 </span>,\n",
       " <span class=\"date\"> 1월3일 </span>,\n",
       " <span class=\"point\"> 노래순위, 베스트셀러 </span>,\n",
       " <span class=\"title\"> 판다스 살펴보기 </span>,\n",
       " <span class=\"presenter\"> 장남수 </span>,\n",
       " <span class=\"date\"> 1월4일 </span>,\n",
       " <span class=\"point\"> pandas </span>,\n",
       " <span class=\"title\"> 상가 업력 분석하기 </span>,\n",
       " <span class=\"presenter\"> 장남수 </span>,\n",
       " <span class=\"date\"> 1월5일 </span>,\n",
       " <span class=\"point\"> 공공데이터 분석 </span>,\n",
       " <span class=\"title\"> 데이터 시각화 </span>,\n",
       " <span class=\"presenter\"> 장남수 </span>,\n",
       " <span class=\"date\"> 1월6일 </span>,\n",
       " <span class=\"point\"> seaborn </span>,\n",
       " <span class=\"title\"> 네이버 쇼핑몰 수집/분석 </span>,\n",
       " <span class=\"presenter\"> 장남수 </span>,\n",
       " <span class=\"date\"> 1월7일 </span>,\n",
       " <span class=\"point\"> youtube </span>]"
      ]
     },
     "execution_count": 10,
     "metadata": {},
     "output_type": "execute_result"
    }
   ],
   "source": [
    "soup.select('span')"
   ]
  },
  {
   "cell_type": "code",
   "execution_count": 20,
   "metadata": {},
   "outputs": [
    {
     "data": {
      "text/plain": [
       "\n",
       "<h1> HTML예시  </h1>\n",
       "<span> 파이썬 입문부터 시작하는 데이터 분석 마스터</span>\n",
       "<p class=\"seminar\" id=\"weeks1\" title=\"first\"> 1주차\n",
       "        <span class=\"title\"> 파이썬 맛보기 </span>\n",
       "<span class=\"presenter\"> 장남수 </span>\n",
       "<span class=\"date\"> 1월1일 </span>\n",
       "<span class=\"point\"> 파이썬 설치 사전 안내 </span>\n",
       "<a href=\"https://kiddwannabe.blog.me/221154599192\">네이버 블로그-아나콘다설치</a>\n",
       "</p>\n",
       "<p class=\"seminar\" id=\"weeks2\" title=\"second\"> 2주차\n",
       "        <span class=\"title\"> 크롤링 해보기 </span>\n",
       "<span class=\"presenter\"> 장남수 </span>\n",
       "<span class=\"date\"> 1월2일 </span>\n",
       "<span class=\"point\"> selenium / html </span>\n",
       "<a href=\"https://kiddwannabe.blog.me/221177292446\">네이버 블로그-크롤링</a>\n",
       "</p>\n",
       "<p class=\"seminar\" id=\"weeks3\" title=\"third\"> 3주차\n",
       "        <span class=\"title\"> 크롤링 실습 </span>\n",
       "<span class=\"presenter\"> 장남수 </span>\n",
       "<span class=\"date\"> 1월3일 </span>\n",
       "<span class=\"point\"> 노래순위, 베스트셀러 </span>\n",
       "<a href=\"https://kiddwannabe.blog.me/\">네이버 블로그</a>\n",
       "</p>\n",
       "<p class=\"seminar\" id=\"weeks4\" title=\"fourth\"> 4주차\n",
       "        <span class=\"title\"> 판다스 살펴보기 </span>\n",
       "<span class=\"presenter\"> 장남수 </span>\n",
       "<span class=\"date\"> 1월4일 </span>\n",
       "<span class=\"point\"> pandas </span>\n",
       "<a href=\"https://kiddwannabe.blog.me/\">네이버 블로그</a>\n",
       "</p>\n",
       "<p class=\"seminar\" id=\"weeks5\" title=\"fifth\"> 5주차\n",
       "        <span class=\"title\"> 상가 업력 분석하기 </span>\n",
       "<span class=\"presenter\"> 장남수 </span>\n",
       "<span class=\"date\"> 1월5일 </span>\n",
       "<span class=\"point\"> 공공데이터 분석 </span>\n",
       "<a href=\"https://kiddwannabe.blog.me/\">네이버 블로그</a>\n",
       "</p>\n",
       "<p class=\"seminar\" id=\"weeks6\" title=\"sixth\"> 6주차\n",
       "        <span class=\"title\"> 데이터 시각화 </span>\n",
       "<span class=\"presenter\"> 장남수 </span>\n",
       "<span class=\"date\"> 1월6일 </span>\n",
       "<span class=\"point\"> seaborn </span>\n",
       "<a href=\"https://kiddwannabe.blog.me/221728411362\">네이버 블로그-seaborn</a>\n",
       "</p>\n",
       "<p class=\"seminar\" id=\"weeks7\" title=\"seventh\"> 7주차\n",
       "        <span class=\"title\"> 네이버 쇼핑몰 수집/분석 </span>\n",
       "<span class=\"presenter\"> 장남수 </span>\n",
       "<span class=\"date\"> 1월7일 </span>\n",
       "<span class=\"point\"> youtube </span>\n",
       "<a href=\"https://kiddwannabe.blog.me/\">네이버 블로그</a>\n",
       "</p>\n"
      ]
     },
     "execution_count": 20,
     "metadata": {},
     "output_type": "execute_result"
    }
   ],
   "source": [
    "soup"
   ]
  },
  {
   "cell_type": "code",
   "execution_count": 21,
   "metadata": {},
   "outputs": [
    {
     "data": {
      "text/plain": [
       "[<p class=\"seminar\" id=\"weeks1\" title=\"first\"> 1주차\n",
       "         <span class=\"title\"> 파이썬 맛보기 </span>\n",
       " <span class=\"presenter\"> 장남수 </span>\n",
       " <span class=\"date\"> 1월1일 </span>\n",
       " <span class=\"point\"> 파이썬 설치 사전 안내 </span>\n",
       " <a href=\"https://kiddwannabe.blog.me/221154599192\">네이버 블로그-아나콘다설치</a>\n",
       " </p>]"
      ]
     },
     "execution_count": 21,
     "metadata": {},
     "output_type": "execute_result"
    }
   ],
   "source": [
    "#soup.select('#id속성값') # '#'은 id // id속성값이 weeks1 인거 찾아줘..\n",
    "soup.select('#weeks1')"
   ]
  },
  {
   "cell_type": "code",
   "execution_count": 22,
   "metadata": {},
   "outputs": [
    {
     "data": {
      "text/plain": [
       "[<span class=\"title\"> 파이썬 맛보기 </span>]"
      ]
     },
     "execution_count": 22,
     "metadata": {},
     "output_type": "execute_result"
    }
   ],
   "source": [
    "# soup.select('상위태그정보 > 하위태그정보') \n",
    "soup.select('#weeks1 > span.title') #띄어쓰기 해줘야함\n",
    "#\"id속성값이 week1인 태그 바로 아래에 있는\"\n",
    "#\"태그명이 span 이면서 class속성값이 title인거 다 찾아줘...\"\n"
   ]
  },
  {
   "cell_type": "code",
   "execution_count": 23,
   "metadata": {},
   "outputs": [
    {
     "data": {
      "text/plain": [
       "\n",
       "<h1> HTML예시  </h1>\n",
       "<span> 파이썬 입문부터 시작하는 데이터 분석 마스터</span>\n",
       "<p class=\"seminar\" id=\"weeks1\" title=\"first\"> 1주차\n",
       "        <span class=\"title\"> 파이썬 맛보기 </span>\n",
       "<span class=\"presenter\"> 장남수 </span>\n",
       "<span class=\"date\"> 1월1일 </span>\n",
       "<span class=\"point\"> 파이썬 설치 사전 안내 </span>\n",
       "<a href=\"https://kiddwannabe.blog.me/221154599192\">네이버 블로그-아나콘다설치</a>\n",
       "</p>\n",
       "<p class=\"seminar\" id=\"weeks2\" title=\"second\"> 2주차\n",
       "        <span class=\"title\"> 크롤링 해보기 </span>\n",
       "<span class=\"presenter\"> 장남수 </span>\n",
       "<span class=\"date\"> 1월2일 </span>\n",
       "<span class=\"point\"> selenium / html </span>\n",
       "<a href=\"https://kiddwannabe.blog.me/221177292446\">네이버 블로그-크롤링</a>\n",
       "</p>\n",
       "<p class=\"seminar\" id=\"weeks3\" title=\"third\"> 3주차\n",
       "        <span class=\"title\"> 크롤링 실습 </span>\n",
       "<span class=\"presenter\"> 장남수 </span>\n",
       "<span class=\"date\"> 1월3일 </span>\n",
       "<span class=\"point\"> 노래순위, 베스트셀러 </span>\n",
       "<a href=\"https://kiddwannabe.blog.me/\">네이버 블로그</a>\n",
       "</p>\n",
       "<p class=\"seminar\" id=\"weeks4\" title=\"fourth\"> 4주차\n",
       "        <span class=\"title\"> 판다스 살펴보기 </span>\n",
       "<span class=\"presenter\"> 장남수 </span>\n",
       "<span class=\"date\"> 1월4일 </span>\n",
       "<span class=\"point\"> pandas </span>\n",
       "<a href=\"https://kiddwannabe.blog.me/\">네이버 블로그</a>\n",
       "</p>\n",
       "<p class=\"seminar\" id=\"weeks5\" title=\"fifth\"> 5주차\n",
       "        <span class=\"title\"> 상가 업력 분석하기 </span>\n",
       "<span class=\"presenter\"> 장남수 </span>\n",
       "<span class=\"date\"> 1월5일 </span>\n",
       "<span class=\"point\"> 공공데이터 분석 </span>\n",
       "<a href=\"https://kiddwannabe.blog.me/\">네이버 블로그</a>\n",
       "</p>\n",
       "<p class=\"seminar\" id=\"weeks6\" title=\"sixth\"> 6주차\n",
       "        <span class=\"title\"> 데이터 시각화 </span>\n",
       "<span class=\"presenter\"> 장남수 </span>\n",
       "<span class=\"date\"> 1월6일 </span>\n",
       "<span class=\"point\"> seaborn </span>\n",
       "<a href=\"https://kiddwannabe.blog.me/221728411362\">네이버 블로그-seaborn</a>\n",
       "</p>\n",
       "<p class=\"seminar\" id=\"weeks7\" title=\"seventh\"> 7주차\n",
       "        <span class=\"title\"> 네이버 쇼핑몰 수집/분석 </span>\n",
       "<span class=\"presenter\"> 장남수 </span>\n",
       "<span class=\"date\"> 1월7일 </span>\n",
       "<span class=\"point\"> youtube </span>\n",
       "<a href=\"https://kiddwannabe.blog.me/\">네이버 블로그</a>\n",
       "</p>\n"
      ]
     },
     "execution_count": 23,
     "metadata": {},
     "output_type": "execute_result"
    }
   ],
   "source": [
    "soup"
   ]
  },
  {
   "cell_type": "code",
   "execution_count": 21,
   "metadata": {},
   "outputs": [
    {
     "data": {
      "text/plain": [
       "7"
      ]
     },
     "execution_count": 21,
     "metadata": {},
     "output_type": "execute_result"
    }
   ],
   "source": [
    "week_list = soup.select('p')\n",
    "len(week_list) # --> 7 / 7이 안나오면 추가정보 입력해야하는 느낌"
   ]
  },
  {
   "cell_type": "code",
   "execution_count": null,
   "metadata": {},
   "outputs": [],
   "source": [
    "#print 안쓰면 맨아래 변수는 바로 출력해서 보여줌 / 마지막꺼만***"
   ]
  },
  {
   "cell_type": "code",
   "execution_count": 22,
   "metadata": {},
   "outputs": [
    {
     "data": {
      "text/plain": [
       "[<p class=\"seminar\" id=\"weeks1\" title=\"first\"> 1주차\n",
       "         <span class=\"title\"> 파이썬 맛보기 </span>\n",
       " <span class=\"presenter\"> 장남수 </span>\n",
       " <span class=\"date\"> 1월1일 </span>\n",
       " <span class=\"point\"> 파이썬 설치 사전 안내 </span>\n",
       " <a href=\"https://kiddwannabe.blog.me/221154599192\">네이버 블로그-아나콘다설치</a>\n",
       " </p>,\n",
       " <p class=\"seminar\" id=\"weeks2\" title=\"second\"> 2주차\n",
       "         <span class=\"title\"> 크롤링 해보기 </span>\n",
       " <span class=\"presenter\"> 장남수 </span>\n",
       " <span class=\"date\"> 1월2일 </span>\n",
       " <span class=\"point\"> selenium / html </span>\n",
       " <a href=\"https://kiddwannabe.blog.me/221177292446\">네이버 블로그-크롤링</a>\n",
       " </p>,\n",
       " <p class=\"seminar\" id=\"weeks3\" title=\"third\"> 3주차\n",
       "         <span class=\"title\"> 크롤링 실습 </span>\n",
       " <span class=\"presenter\"> 장남수 </span>\n",
       " <span class=\"date\"> 1월3일 </span>\n",
       " <span class=\"point\"> 노래순위, 베스트셀러 </span>\n",
       " <a href=\"https://kiddwannabe.blog.me/\">네이버 블로그</a>\n",
       " </p>,\n",
       " <p class=\"seminar\" id=\"weeks4\" title=\"fourth\"> 4주차\n",
       "         <span class=\"title\"> 판다스 살펴보기 </span>\n",
       " <span class=\"presenter\"> 장남수 </span>\n",
       " <span class=\"date\"> 1월4일 </span>\n",
       " <span class=\"point\"> pandas </span>\n",
       " <a href=\"https://kiddwannabe.blog.me/\">네이버 블로그</a>\n",
       " </p>,\n",
       " <p class=\"seminar\" id=\"weeks5\" title=\"fifth\"> 5주차\n",
       "         <span class=\"title\"> 상가 업력 분석하기 </span>\n",
       " <span class=\"presenter\"> 장남수 </span>\n",
       " <span class=\"date\"> 1월5일 </span>\n",
       " <span class=\"point\"> 공공데이터 분석 </span>\n",
       " <a href=\"https://kiddwannabe.blog.me/\">네이버 블로그</a>\n",
       " </p>,\n",
       " <p class=\"seminar\" id=\"weeks6\" title=\"sixth\"> 6주차\n",
       "         <span class=\"title\"> 데이터 시각화 </span>\n",
       " <span class=\"presenter\"> 장남수 </span>\n",
       " <span class=\"date\"> 1월6일 </span>\n",
       " <span class=\"point\"> seaborn </span>\n",
       " <a href=\"https://kiddwannabe.blog.me/221728411362\">네이버 블로그-seaborn</a>\n",
       " </p>,\n",
       " <p class=\"seminar\" id=\"weeks7\" title=\"seventh\"> 7주차\n",
       "         <span class=\"title\"> 네이버 쇼핑몰 수집/분석 </span>\n",
       " <span class=\"presenter\"> 장남수 </span>\n",
       " <span class=\"date\"> 1월7일 </span>\n",
       " <span class=\"point\"> youtube </span>\n",
       " <a href=\"https://kiddwannabe.blog.me/\">네이버 블로그</a>\n",
       " </p>]"
      ]
     },
     "execution_count": 22,
     "metadata": {},
     "output_type": "execute_result"
    }
   ],
   "source": [
    "week_list"
   ]
  },
  {
   "cell_type": "code",
   "execution_count": 28,
   "metadata": {},
   "outputs": [
    {
     "name": "stdout",
     "output_type": "stream",
     "text": [
      " 파이썬 맛보기   장남수   1월1일   파이썬 설치 사전 안내 \n"
     ]
    }
   ],
   "source": [
    "# 1주차 정보만 선택 \n",
    "week = week_list[0]\n",
    "\n",
    "#정보(제목,날짜,......)찾기\n",
    "#title = week.select('span') -> #week 내에서 태그명이 span 찾아줘\n",
    "title = week.select('span.title')[0].text #위에 조건 + class속성값이 title인거 #[0]을 해줘야 리스트 형태가 안됨\n",
    "len(title)\n",
    "title\n",
    "\n",
    "presenter = week.select('span.presenter')[0].text\n",
    "len(presenter)\n",
    "presenter\n",
    "#print(title, presenter)\n",
    "\n",
    "date = week.select('span.date')[0].text \n",
    "point = week.select('span.point')[0].text\n",
    "print(title, presenter, date, point)"
   ]
  },
  {
   "cell_type": "code",
   "execution_count": 29,
   "metadata": {},
   "outputs": [
    {
     "ename": "AttributeError",
     "evalue": "ResultSet object has no attribute 'text'. You're probably treating a list of elements like a single element. Did you call find_all() when you meant to call find()?",
     "output_type": "error",
     "traceback": [
      "\u001b[1;31m---------------------------------------------------------------------------\u001b[0m",
      "\u001b[1;31mAttributeError\u001b[0m                            Traceback (most recent call last)",
      "\u001b[1;32m<ipython-input-29-bae460f3ac61>\u001b[0m in \u001b[0;36m<module>\u001b[1;34m\u001b[0m\n\u001b[1;32m----> 1\u001b[1;33m \u001b[0mtitle\u001b[0m \u001b[1;33m=\u001b[0m \u001b[0mweek\u001b[0m\u001b[1;33m.\u001b[0m\u001b[0mselect\u001b[0m\u001b[1;33m(\u001b[0m\u001b[1;34m'span.title'\u001b[0m\u001b[1;33m)\u001b[0m\u001b[1;33m.\u001b[0m\u001b[0mtext\u001b[0m\u001b[1;33m\u001b[0m\u001b[1;33m\u001b[0m\u001b[0m\n\u001b[0m\u001b[0;32m      2\u001b[0m \u001b[0mtitle\u001b[0m\u001b[1;33m\u001b[0m\u001b[1;33m\u001b[0m\u001b[0m\n",
      "\u001b[1;32mC:\\ProgramData\\Anaconda3\\lib\\site-packages\\bs4\\element.py\u001b[0m in \u001b[0;36m__getattr__\u001b[1;34m(self, key)\u001b[0m\n\u001b[0;32m   2158\u001b[0m     \u001b[1;32mdef\u001b[0m \u001b[0m__getattr__\u001b[0m\u001b[1;33m(\u001b[0m\u001b[0mself\u001b[0m\u001b[1;33m,\u001b[0m \u001b[0mkey\u001b[0m\u001b[1;33m)\u001b[0m\u001b[1;33m:\u001b[0m\u001b[1;33m\u001b[0m\u001b[1;33m\u001b[0m\u001b[0m\n\u001b[0;32m   2159\u001b[0m         \u001b[1;34m\"\"\"Raise a helpful exception to explain a common code fix.\"\"\"\u001b[0m\u001b[1;33m\u001b[0m\u001b[1;33m\u001b[0m\u001b[0m\n\u001b[1;32m-> 2160\u001b[1;33m         raise AttributeError(\n\u001b[0m\u001b[0;32m   2161\u001b[0m             \u001b[1;34m\"ResultSet object has no attribute '%s'. You're probably treating a list of elements like a single element. Did you call find_all() when you meant to call find()?\"\u001b[0m \u001b[1;33m%\u001b[0m \u001b[0mkey\u001b[0m\u001b[1;33m\u001b[0m\u001b[1;33m\u001b[0m\u001b[0m\n\u001b[0;32m   2162\u001b[0m         )\n",
      "\u001b[1;31mAttributeError\u001b[0m: ResultSet object has no attribute 'text'. You're probably treating a list of elements like a single element. Did you call find_all() when you meant to call find()?"
     ]
    }
   ],
   "source": [
    "title = week.select('span.title').text\n",
    "title"
   ]
  },
  {
   "cell_type": "code",
   "execution_count": 30,
   "metadata": {},
   "outputs": [
    {
     "name": "stdout",
     "output_type": "stream",
     "text": [
      " 파이썬 맛보기   장남수   1월1일   파이썬 설치 사전 안내 \n"
     ]
    }
   ],
   "source": [
    "# 1주차 정보만 선택\n",
    "\n",
    "week = week_list[0]\n",
    "\n",
    "title = week.select('span.title')[0].text\n",
    "len(title)\n",
    "title\n",
    "\n",
    "presenter = week.select('span.presenter')[0].text\n",
    "presenter\n",
    "\n",
    "date = week.select('span.date')[0].text \n",
    "point = week.select('span.point')[0].text\n",
    "print(title, presenter, date, point)\n",
    "\n",
    "    "
   ]
  },
  {
   "cell_type": "code",
   "execution_count": 31,
   "metadata": {},
   "outputs": [
    {
     "data": {
      "text/plain": [
       "[<p class=\"seminar\" id=\"weeks1\" title=\"first\"> 1주차\n",
       "         <span class=\"title\"> 파이썬 맛보기 </span>\n",
       " <span class=\"presenter\"> 장남수 </span>\n",
       " <span class=\"date\"> 1월1일 </span>\n",
       " <span class=\"point\"> 파이썬 설치 사전 안내 </span>\n",
       " <a href=\"https://kiddwannabe.blog.me/221154599192\">네이버 블로그-아나콘다설치</a>\n",
       " </p>,\n",
       " <p class=\"seminar\" id=\"weeks2\" title=\"second\"> 2주차\n",
       "         <span class=\"title\"> 크롤링 해보기 </span>\n",
       " <span class=\"presenter\"> 장남수 </span>\n",
       " <span class=\"date\"> 1월2일 </span>\n",
       " <span class=\"point\"> selenium / html </span>\n",
       " <a href=\"https://kiddwannabe.blog.me/221177292446\">네이버 블로그-크롤링</a>\n",
       " </p>,\n",
       " <p class=\"seminar\" id=\"weeks3\" title=\"third\"> 3주차\n",
       "         <span class=\"title\"> 크롤링 실습 </span>\n",
       " <span class=\"presenter\"> 장남수 </span>\n",
       " <span class=\"date\"> 1월3일 </span>\n",
       " <span class=\"point\"> 노래순위, 베스트셀러 </span>\n",
       " <a href=\"https://kiddwannabe.blog.me/\">네이버 블로그</a>\n",
       " </p>,\n",
       " <p class=\"seminar\" id=\"weeks4\" title=\"fourth\"> 4주차\n",
       "         <span class=\"title\"> 판다스 살펴보기 </span>\n",
       " <span class=\"presenter\"> 장남수 </span>\n",
       " <span class=\"date\"> 1월4일 </span>\n",
       " <span class=\"point\"> pandas </span>\n",
       " <a href=\"https://kiddwannabe.blog.me/\">네이버 블로그</a>\n",
       " </p>,\n",
       " <p class=\"seminar\" id=\"weeks5\" title=\"fifth\"> 5주차\n",
       "         <span class=\"title\"> 상가 업력 분석하기 </span>\n",
       " <span class=\"presenter\"> 장남수 </span>\n",
       " <span class=\"date\"> 1월5일 </span>\n",
       " <span class=\"point\"> 공공데이터 분석 </span>\n",
       " <a href=\"https://kiddwannabe.blog.me/\">네이버 블로그</a>\n",
       " </p>,\n",
       " <p class=\"seminar\" id=\"weeks6\" title=\"sixth\"> 6주차\n",
       "         <span class=\"title\"> 데이터 시각화 </span>\n",
       " <span class=\"presenter\"> 장남수 </span>\n",
       " <span class=\"date\"> 1월6일 </span>\n",
       " <span class=\"point\"> seaborn </span>\n",
       " <a href=\"https://kiddwannabe.blog.me/221728411362\">네이버 블로그-seaborn</a>\n",
       " </p>,\n",
       " <p class=\"seminar\" id=\"weeks7\" title=\"seventh\"> 7주차\n",
       "         <span class=\"title\"> 네이버 쇼핑몰 수집/분석 </span>\n",
       " <span class=\"presenter\"> 장남수 </span>\n",
       " <span class=\"date\"> 1월7일 </span>\n",
       " <span class=\"point\"> youtube </span>\n",
       " <a href=\"https://kiddwannabe.blog.me/\">네이버 블로그</a>\n",
       " </p>]"
      ]
     },
     "execution_count": 31,
     "metadata": {},
     "output_type": "execute_result"
    }
   ],
   "source": [
    "week_list"
   ]
  },
  {
   "cell_type": "code",
   "execution_count": 32,
   "metadata": {},
   "outputs": [
    {
     "data": {
      "text/plain": [
       "<p class=\"seminar\" id=\"weeks1\" title=\"first\"> 1주차\n",
       "        <span class=\"title\"> 파이썬 맛보기 </span>\n",
       "<span class=\"presenter\"> 장남수 </span>\n",
       "<span class=\"date\"> 1월1일 </span>\n",
       "<span class=\"point\"> 파이썬 설치 사전 안내 </span>\n",
       "<a href=\"https://kiddwannabe.blog.me/221154599192\">네이버 블로그-아나콘다설치</a>\n",
       "</p>"
      ]
     },
     "execution_count": 32,
     "metadata": {},
     "output_type": "execute_result"
    }
   ],
   "source": [
    "week"
   ]
  },
  {
   "cell_type": "code",
   "execution_count": 33,
   "metadata": {},
   "outputs": [
    {
     "name": "stdout",
     "output_type": "stream",
     "text": [
      " 파이썬 맛보기   장남수   1월1일   파이썬 설치 사전 안내  https://kiddwannabe.blog.me/221154599192\n",
      "[' 파이썬 맛보기 ', ' 장남수 ', ' 1월1일 ', ' 파이썬 설치 사전 안내 ', 'https://kiddwannabe.blog.me/221154599192']\n",
      " 크롤링 해보기   장남수   1월2일   selenium / html  https://kiddwannabe.blog.me/221177292446\n",
      "[' 크롤링 해보기 ', ' 장남수 ', ' 1월2일 ', ' selenium / html ', 'https://kiddwannabe.blog.me/221177292446']\n",
      " 크롤링 실습   장남수   1월3일   노래순위, 베스트셀러  https://kiddwannabe.blog.me/\n",
      "[' 크롤링 실습 ', ' 장남수 ', ' 1월3일 ', ' 노래순위, 베스트셀러 ', 'https://kiddwannabe.blog.me/']\n",
      " 판다스 살펴보기   장남수   1월4일   pandas  https://kiddwannabe.blog.me/\n",
      "[' 판다스 살펴보기 ', ' 장남수 ', ' 1월4일 ', ' pandas ', 'https://kiddwannabe.blog.me/']\n",
      " 상가 업력 분석하기   장남수   1월5일   공공데이터 분석  https://kiddwannabe.blog.me/\n",
      "[' 상가 업력 분석하기 ', ' 장남수 ', ' 1월5일 ', ' 공공데이터 분석 ', 'https://kiddwannabe.blog.me/']\n",
      " 데이터 시각화   장남수   1월6일   seaborn  https://kiddwannabe.blog.me/221728411362\n",
      "[' 데이터 시각화 ', ' 장남수 ', ' 1월6일 ', ' seaborn ', 'https://kiddwannabe.blog.me/221728411362']\n",
      " 네이버 쇼핑몰 수집/분석   장남수   1월7일   youtube  https://kiddwannabe.blog.me/\n",
      "[' 네이버 쇼핑몰 수집/분석 ', ' 장남수 ', ' 1월7일 ', ' youtube ', 'https://kiddwannabe.blog.me/']\n"
     ]
    }
   ],
   "source": [
    "#week = week_list[0]\n",
    "#week_list = soup.select('p')\n",
    "\n",
    "results = [] #데이터를 넣을 공간을 생성\n",
    "\n",
    "for week in week_list:\n",
    "    title = week.select('span.title')[0].text\n",
    "    presenter = week.select('span.presenter')[0].text\n",
    "    date = week.select('span.date')[0].text \n",
    "    point = week.select('span.point')[0].text\n",
    "    #link = week.select('a')[0].text\n",
    "    link = week.select('a')[0]['href']\n",
    "    print(title, presenter, date, point, link)\n",
    "    \n",
    "    data = [title, presenter, date, point, link] #데이터 내보내기!\n",
    "    print(data)\n",
    "    results.append(data) #results에 입력, 쌓아주는거 \n",
    "    "
   ]
  },
  {
   "cell_type": "code",
   "execution_count": null,
   "metadata": {},
   "outputs": [],
   "source": [
    "soup.select() --> [태그1, 태그2...] --> 태그1 --> 태그1. text\n",
    "                                                 --> 태그['속성명']"
   ]
  },
  {
   "cell_type": "code",
   "execution_count": 69,
   "metadata": {
    "scrolled": true
   },
   "outputs": [
    {
     "data": {
      "text/plain": [
       "[[' 파이썬 맛보기 ',\n",
       "  ' 장남수 ',\n",
       "  ' 1월1일 ',\n",
       "  ' 파이썬 설치 사전 안내 ',\n",
       "  'https://kiddwannabe.blog.me/221154599192'],\n",
       " [' 크롤링 해보기 ',\n",
       "  ' 장남수 ',\n",
       "  ' 1월2일 ',\n",
       "  ' selenium / html ',\n",
       "  'https://kiddwannabe.blog.me/221177292446'],\n",
       " [' 크롤링 실습 ',\n",
       "  ' 장남수 ',\n",
       "  ' 1월3일 ',\n",
       "  ' 노래순위, 베스트셀러 ',\n",
       "  'https://kiddwannabe.blog.me/'],\n",
       " [' 판다스 살펴보기 ', ' 장남수 ', ' 1월4일 ', ' pandas ', 'https://kiddwannabe.blog.me/'],\n",
       " [' 상가 업력 분석하기 ',\n",
       "  ' 장남수 ',\n",
       "  ' 1월5일 ',\n",
       "  ' 공공데이터 분석 ',\n",
       "  'https://kiddwannabe.blog.me/'],\n",
       " [' 데이터 시각화 ',\n",
       "  ' 장남수 ',\n",
       "  ' 1월6일 ',\n",
       "  ' seaborn ',\n",
       "  'https://kiddwannabe.blog.me/221728411362'],\n",
       " [' 네이버 쇼핑몰 수집/분석 ',\n",
       "  ' 장남수 ',\n",
       "  ' 1월7일 ',\n",
       "  ' youtube ',\n",
       "  'https://kiddwannabe.blog.me/']]"
      ]
     },
     "execution_count": 69,
     "metadata": {},
     "output_type": "execute_result"
    }
   ],
   "source": [
    "results"
   ]
  },
  {
   "cell_type": "code",
   "execution_count": 31,
   "metadata": {},
   "outputs": [],
   "source": [
    "import pandas as pd"
   ]
  },
  {
   "cell_type": "code",
   "execution_count": 32,
   "metadata": {},
   "outputs": [],
   "source": [
    "df = pd.DataFrame(results) # 표형태 데이터 #D F 대문자\n",
    "df.columns = ['주제','강사명','일자','주요내용','링크']\n",
    "df.to_excel('./test.xlsx') #  ./ 현재 위치 -> 쥬피터 노트북 실행 위치"
   ]
  }
 ],
 "metadata": {
  "kernelspec": {
   "display_name": "Python 3",
   "language": "python",
   "name": "python3"
  },
  "language_info": {
   "codemirror_mode": {
    "name": "ipython",
    "version": 3
   },
   "file_extension": ".py",
   "mimetype": "text/x-python",
   "name": "python",
   "nbconvert_exporter": "python",
   "pygments_lexer": "ipython3",
   "version": "3.8.3"
  }
 },
 "nbformat": 4,
 "nbformat_minor": 4
}
