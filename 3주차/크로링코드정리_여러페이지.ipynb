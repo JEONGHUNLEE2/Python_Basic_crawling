{
 "cells": [
  {
   "cell_type": "code",
   "execution_count": 16,
   "metadata": {},
   "outputs": [],
   "source": [
    "from selenium import webdriver\n",
    "from bs4 import BeautifulSoup\n",
    "import pandas as pd\n",
    "import time #쉬게 해주는 함수\n",
    "import random #랜덤하게 숫자 뱉는거"
   ]
  },
  {
   "cell_type": "code",
   "execution_count": 3,
   "metadata": {},
   "outputs": [],
   "source": [
    "browser = webdriver.Chrome('c:/informs/chromedriver.exe')"
   ]
  },
  {
   "cell_type": "code",
   "execution_count": 27,
   "metadata": {},
   "outputs": [
    {
     "data": {
      "text/plain": [
       "2.9676923666140973"
      ]
     },
     "execution_count": 27,
     "metadata": {},
     "output_type": "execute_result"
    }
   ],
   "source": [
    "random.uniform(2,5)"
   ]
  },
  {
   "cell_type": "code",
   "execution_count": 12,
   "metadata": {},
   "outputs": [
    {
     "name": "stdout",
     "output_type": "stream",
     "text": [
      "1\n",
      "2\n",
      "3\n",
      "4\n",
      "5\n",
      "6\n",
      "7\n",
      "8\n",
      "9\n",
      "10\n"
     ]
    }
   ],
   "source": [
    "page_list = range(1,11)\n",
    "\n",
    "for page in page_list:\n",
    "    print(page)\n",
    "    time.sleep(1)\n",
    "    \n",
    "for page in page_list:\n",
    "    print(page)\n",
    "    time.sleep(random.uniform(2,5))"
   ]
  },
  {
   "cell_type": "code",
   "execution_count": 14,
   "metadata": {},
   "outputs": [],
   "source": [
    "results = []\n",
    "\n",
    "page = 6\n",
    "#page_list = [1,2,3,4,5...]\n",
    "#[0:11]은 옆에 집합이 있어야함. ex) [01,13,3,3,3,4,,5,,,6,6,6][0:5] 이런식으로 \n",
    "page_list = range(1,11)\n",
    "\n",
    "for page in page_list:\n",
    "    \n",
    "#url = \"https://youtube-rank.com/board/bbs/board.php?bo_table=youtube&page=3\"\n",
    "    url = f\"https://youtube-rank.com/board/bbs/board.php?bo_table=youtube&page={page}\"\n",
    "    browser.get(url)\n",
    "    #몇 초 기다려줘.....(접속~page_source 받기  사이에.....)\n",
    "    time.sleep(2) #이렇게 하면 서버에서 차단될 수도 있음\n",
    "    \n",
    "    html = browser.page_source\n",
    "    soup = BeautifulSoup(html,'html.parser') \n",
    "    channel_list = soup.select('form > table > tbody > tr') \n",
    "\n",
    "    for channel in channel_list :\n",
    "\n",
    "        title = channel.select('h1 > a')[0].text.strip()\n",
    "        category = channel.select('p.category')[0].text.strip()\n",
    "        subscriber = channel.select('td.subscriber_cnt')[0].text.strip()\n",
    "        view = channel.select('td.view_cnt')[0].text.strip()\n",
    "        video = channel.select('td.video_cnt')[0].text.strip()\n",
    "\n",
    "        data = [title, category,subscriber, view, video]\n",
    "        #print(data)\n",
    "        results.append(data)"
   ]
  },
  {
   "cell_type": "code",
   "execution_count": 15,
   "metadata": {},
   "outputs": [
    {
     "data": {
      "text/plain": [
       "1000"
      ]
     },
     "execution_count": 15,
     "metadata": {},
     "output_type": "execute_result"
    }
   ],
   "source": [
    "len(results)"
   ]
  },
  {
   "cell_type": "code",
   "execution_count": 33,
   "metadata": {},
   "outputs": [],
   "source": [
    "#엑셀저장하기\n",
    "df = pd.DataFrame(results) \n",
    "df.columns = ['채널명','카테고리','구독자수','조회수','영상수']\n",
    "#filename = f'./유튜브채널랭크_Top{len(results)}.xlsx'\n",
    "filename = f'유튜브채널랭크_Top{len(results)}.xlsx'\n",
    "df.to_excel(filename, index = False)"
   ]
  }
 ],
 "metadata": {
  "kernelspec": {
   "display_name": "Python 3",
   "language": "python",
   "name": "python3"
  },
  "language_info": {
   "codemirror_mode": {
    "name": "ipython",
    "version": 3
   },
   "file_extension": ".py",
   "mimetype": "text/x-python",
   "name": "python",
   "nbconvert_exporter": "python",
   "pygments_lexer": "ipython3",
   "version": "3.8.3"
  }
 },
 "nbformat": 4,
 "nbformat_minor": 4
}
