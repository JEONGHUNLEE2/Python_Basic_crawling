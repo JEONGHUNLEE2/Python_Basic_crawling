{
 "cells": [
  {
   "cell_type": "code",
   "execution_count": 1,
   "metadata": {},
   "outputs": [
    {
     "name": "stdout",
     "output_type": "stream",
     "text": [
      "송강호\n",
      "류승범\n",
      "이병헌\n",
      "김태리\n"
     ]
    }
   ],
   "source": [
    "movie_star_list = ['송강호','류승범','이병헌','김태리']\n",
    "print(movie_star_list[0])\n",
    "print(movie_star_list[1])\n",
    "print(movie_star_list[2])\n",
    "print(movie_star_list[3])"
   ]
  },
  {
   "cell_type": "code",
   "execution_count": 1,
   "metadata": {},
   "outputs": [
    {
     "name": "stdout",
     "output_type": "stream",
     "text": [
      "송강호\n",
      "송강호\n",
      "류승범\n",
      "류승범\n",
      "이병헌\n",
      "이병헌\n",
      "김태리\n",
      "김태리\n"
     ]
    }
   ],
   "source": [
    "#movie_star_list -> 하나씩 꺼내서 프린트해줘\n",
    "#for 반복문\n",
    "#for 변수 in 그룹\n",
    "movie_star_list = ['송강호','류승범','이병헌','김태리']\n",
    "\n",
    "#그룹에서 순서대로 하나씩 꺼내서 변수에 넣어줘\n",
    "for movie_star in movie_star_list: \n",
    "    print(movie_star)\n",
    "    print(movie_star)\n",
    "#반복문이던 조건문이던 \":\" 다음에 들여쓰기로 구분\n",
    "\n",
    "\n"
   ]
  },
  {
   "cell_type": "code",
   "execution_count": 8,
   "metadata": {},
   "outputs": [
    {
     "name": "stdout",
     "output_type": "stream",
     "text": [
      "송강호\n",
      "check1\n",
      "류승범\n",
      "check1\n",
      "이병헌\n",
      "check1\n",
      "김태리\n",
      "check1\n",
      "check2\n"
     ]
    }
   ],
   "source": [
    "for movie_star in movie_star_list: \n",
    "    print(movie_star)\n",
    "    print('check1')\n",
    "    \n",
    "print('check2')"
   ]
  },
  {
   "cell_type": "markdown",
   "metadata": {},
   "source": [
    "## 조건문"
   ]
  },
  {
   "cell_type": "code",
   "execution_count": null,
   "metadata": {},
   "outputs": [],
   "source": [
    "if 조건1 : \n",
    "    실핼문1\n",
    "    실행문2\n",
    "elif 조건2 :           #위에 조건들이 모두 아니면서 동시에 조건2가 만족하는 경우 \n",
    "    실행문3\n",
    "    실행문4\n",
    "elif 조건3 :\n",
    "    실행문.......\n",
    "    \n",
    "else :     #위 조건들이 모두 아닐 경우 \n",
    "    실행문             "
   ]
  },
  {
   "cell_type": "code",
   "execution_count": 15,
   "metadata": {},
   "outputs": [
    {
     "data": {
      "text/plain": [
       "False"
      ]
     },
     "execution_count": 15,
     "metadata": {},
     "output_type": "execute_result"
    }
   ],
   "source": [
    "# 2>= 0 \"물어보는 거\"\n",
    "# 2 < 0 \n",
    "# 변수 = 값 / 변수 == 값 \n",
    "name = '장남수'\n",
    "\n",
    "#name in \"장남수 강사\" #문자열을 하나의 그룹으로 볼 수 있음 \n",
    "name == \"장남수 강사\""
   ]
  },
  {
   "cell_type": "code",
   "execution_count": 13,
   "metadata": {},
   "outputs": [
    {
     "name": "stdout",
     "output_type": "stream",
     "text": [
      "작은수\n"
     ]
    }
   ],
   "source": [
    "n = 2\n",
    "\n",
    "if n <= 0 :\n",
    "    print('자연수를 넣어주세요')\n",
    "elif n > 20 :\n",
    "    print('20보다 큰 수')\n",
    "elif n > 10:\n",
    "    print('조금 큰 수 ')\n",
    "else:\n",
    "    print('작은수')"
   ]
  },
  {
   "cell_type": "markdown",
   "metadata": {},
   "source": [
    "## 문자열 포매팅"
   ]
  },
  {
   "cell_type": "code",
   "execution_count": 17,
   "metadata": {},
   "outputs": [
    {
     "name": "stdout",
     "output_type": "stream",
     "text": [
      "안녕하세요 장남수님. 진로컨설팅 서비스에 가입해주셔서 감사합니다.\n"
     ]
    }
   ],
   "source": [
    "msg = \"안녕하세요 장남수님. 진로컨설팅 서비스에 가입해주셔서 감사합니다.\"\n",
    "print(msg)"
   ]
  },
  {
   "cell_type": "code",
   "execution_count": 20,
   "metadata": {},
   "outputs": [
    {
     "name": "stdout",
     "output_type": "stream",
     "text": [
      "안녕하세요 name님. service서비스에 가입해주셔서 감사합니다.\n"
     ]
    }
   ],
   "source": [
    "name = '이정훈'\n",
    "service = '진로상담'\n",
    "\n",
    "msg = \"안녕하세요 name님. service서비스에 가입해주셔서 감사합니다.\"\n",
    "print(msg)"
   ]
  },
  {
   "cell_type": "code",
   "execution_count": 21,
   "metadata": {},
   "outputs": [
    {
     "name": "stdout",
     "output_type": "stream",
     "text": [
      "안녕하세요 이정훈님. 진로상담서비스에 가입해주셔서 감사합니다.\n"
     ]
    }
   ],
   "source": [
    "#파이썬 3.6이후부터 사용가능한 f-string\n",
    "\n",
    "name = '이정훈'\n",
    "service = '진로상담'\n",
    "\n",
    "msg = f\"안녕하세요 {name}님. {service}서비스에 가입해주셔서 감사합니다.\"\n",
    "print(msg)"
   ]
  },
  {
   "cell_type": "code",
   "execution_count": 23,
   "metadata": {},
   "outputs": [
    {
     "name": "stdout",
     "output_type": "stream",
     "text": [
      "안녕하세요 장남수님. 진로상담서비스에 가입해주셔서 감사합니다.\n",
      "안녕하세요 이병헌님. 진로상담서비스에 가입해주셔서 감사합니다.\n",
      "안녕하세요 이태현님. 진로상담서비스에 가입해주셔서 감사합니다.\n",
      "안녕하세요 이정훈님. 진로상담서비스에 가입해주셔서 감사합니다.\n",
      "안녕하세요 이재현님. 진로상담서비스에 가입해주셔서 감사합니다.\n"
     ]
    }
   ],
   "source": [
    "name = '이정훈'\n",
    "name_list = ['장남수','이병헌','이태현','이정훈','이재현']\n",
    "for name in name_list :\n",
    "    service = '진로상담'\n",
    "    msg = f\"안녕하세요 {name}님. {service}서비스에 가입해주셔서 감사합니다.\"\n",
    "    print(msg)"
   ]
  },
  {
   "cell_type": "code",
   "execution_count": null,
   "metadata": {},
   "outputs": [],
   "source": [
    "\\n --> 줄바꿈. 엔터\n",
    "\\t --> 탭문자. 들여쓰기 "
   ]
  },
  {
   "cell_type": "code",
   "execution_count": 28,
   "metadata": {},
   "outputs": [
    {
     "name": "stdout",
     "output_type": "stream",
     "text": [
      "                   \n",
      "태극기가 바람에 펄럭입니다. 하늘 높이 펄럭입니다.\n"
     ]
    }
   ],
   "source": [
    "#raw = \"                   태극기가 바람에 펄럭입니다. 하늘 높이 펄럭입니다.\"\n",
    "raw = \"                   \\n\\n태극기가 바람에 펄럭입니다. 하늘 높이 펄럭입니다.\" # \n",
    "\n",
    "print(raw)"
   ]
  },
  {
   "cell_type": "code",
   "execution_count": null,
   "metadata": {},
   "outputs": [],
   "source": [
    "변수.함수() --> 변수를 가지고 함수() 실행시켜줘!"
   ]
  },
  {
   "cell_type": "code",
   "execution_count": null,
   "metadata": {},
   "outputs": [],
   "source": [
    "문자열.replace(A,B)--> 문자열 내에서 A->B 변경해줘"
   ]
  },
  {
   "cell_type": "code",
   "execution_count": 30,
   "metadata": {},
   "outputs": [
    {
     "name": "stdout",
     "output_type": "stream",
     "text": [
      "                   \n",
      "태극기가 바람에 펄럭입니다. 하늘높이 펄럭입니다.\n"
     ]
    }
   ],
   "source": [
    "print(raw.replace('하늘 높이', '하늘높이'))"
   ]
  },
  {
   "cell_type": "code",
   "execution_count": 29,
   "metadata": {},
   "outputs": [
    {
     "name": "stdout",
     "output_type": "stream",
     "text": [
      "태극기가 바람에 펄럭입니다. 하늘 높이 펄럭입니다.\n"
     ]
    }
   ],
   "source": [
    "#문자열.strip() --> 앞/뒤로 공백문자 없애기\n",
    "print(raw.strip())"
   ]
  },
  {
   "cell_type": "code",
   "execution_count": 40,
   "metadata": {},
   "outputs": [],
   "source": [
    "result = raw.strip().replace('하늘 높이', '하늘높이')"
   ]
  },
  {
   "cell_type": "code",
   "execution_count": 41,
   "metadata": {},
   "outputs": [
    {
     "name": "stdout",
     "output_type": "stream",
     "text": [
      "태극기가 바람에 펄럭입니다. 하늘높이 펄럭입니다.\n"
     ]
    }
   ],
   "source": [
    "print(result)"
   ]
  },
  {
   "cell_type": "code",
   "execution_count": 43,
   "metadata": {},
   "outputs": [
    {
     "data": {
      "text/plain": [
       "['미국', '한국', '일본', '중국']"
      ]
     },
     "execution_count": 43,
     "metadata": {},
     "output_type": "execute_result"
    }
   ],
   "source": [
    "#데이터 나누기\n",
    "#문자열.split()\n",
    "raw =  '미국/한국/일본/중국'\n",
    "raw.split('/') #'/' 기준으로 나눠줘"
   ]
  },
  {
   "cell_type": "code",
   "execution_count": null,
   "metadata": {},
   "outputs": [],
   "source": [
    "#요약\n",
    "#변수 = 값\n"
   ]
  }
 ],
 "metadata": {
  "kernelspec": {
   "display_name": "Python 3",
   "language": "python",
   "name": "python3"
  },
  "language_info": {
   "codemirror_mode": {
    "name": "ipython",
    "version": 3
   },
   "file_extension": ".py",
   "mimetype": "text/x-python",
   "name": "python",
   "nbconvert_exporter": "python",
   "pygments_lexer": "ipython3",
   "version": "3.8.3"
  }
 },
 "nbformat": 4,
 "nbformat_minor": 4
}
