{
 "cells": [
  {
   "cell_type": "code",
   "execution_count": 1,
   "metadata": {},
   "outputs": [
    {
     "ename": "SyntaxError",
     "evalue": "invalid syntax (<ipython-input-1-f223293ec20a>, line 2)",
     "output_type": "error",
     "traceback": [
      "\u001b[1;36m  File \u001b[1;32m\"<ipython-input-1-f223293ec20a>\"\u001b[1;36m, line \u001b[1;32m2\u001b[0m\n\u001b[1;33m    변수 = 값 (R : 변수 <- 값) \"\"\"=\" 변수에다가 값 넣저워.. 변수는 값이야..\"\"\"\u001b[0m\n\u001b[1;37m              ^\u001b[0m\n\u001b[1;31mSyntaxError\u001b[0m\u001b[1;31m:\u001b[0m invalid syntax\n"
     ]
    }
   ],
   "source": [
    "#파이썬\n",
    "변수 = 값 (R : 변수 <- 값) \"\"\"=\" 변수에다가 값 넣저워.. 변수는 값이야..\"\"\""
   ]
  },
  {
   "cell_type": "code",
   "execution_count": 2,
   "metadata": {},
   "outputs": [],
   "source": [
    "a = 5"
   ]
  },
  {
   "cell_type": "code",
   "execution_count": 3,
   "metadata": {},
   "outputs": [
    {
     "name": "stdout",
     "output_type": "stream",
     "text": [
      "5\n"
     ]
    }
   ],
   "source": [
    "print(a)"
   ]
  },
  {
   "cell_type": "code",
   "execution_count": 6,
   "metadata": {},
   "outputs": [
    {
     "name": "stdout",
     "output_type": "stream",
     "text": [
      "3\n",
      "11\n"
     ]
    }
   ],
   "source": [
    "b = 3\n",
    "print(b)\n",
    "b = 11\n",
    "print(b)"
   ]
  },
  {
   "cell_type": "code",
   "execution_count": 9,
   "metadata": {},
   "outputs": [
    {
     "name": "stdout",
     "output_type": "stream",
     "text": [
      "14\n",
      "4\n",
      "45\n",
      "1.8\n",
      "1\n",
      "4\n"
     ]
    }
   ],
   "source": [
    "a = 9\n",
    "b = 5\n",
    "print(a+b)\n",
    "print(a-b)\n",
    "print(a*b)\n",
    "print(a/b)\n",
    "\n",
    "print(a//b) #  a를 b로 나누었을때 몫\n",
    "print(a%b) # a를 b로 나누었을때 나머지 "
   ]
  },
  {
   "cell_type": "code",
   "execution_count": 10,
   "metadata": {},
   "outputs": [
    {
     "name": "stdout",
     "output_type": "stream",
     "text": [
      "3.14\n"
     ]
    }
   ],
   "source": [
    "pie = 3.14\n",
    "print(pie)"
   ]
  },
  {
   "cell_type": "code",
   "execution_count": null,
   "metadata": {},
   "outputs": [],
   "source": [
    "변수 = 값\n",
    "변수 = 숫자(정수, 실수)\n",
    "변수 = 문자 "
   ]
  },
  {
   "cell_type": "code",
   "execution_count": 12,
   "metadata": {},
   "outputs": [
    {
     "name": "stdout",
     "output_type": "stream",
     "text": [
      "이정훈\n"
     ]
    }
   ],
   "source": [
    "#name = \"이정훈\"\n",
    "name = '이정훈'\n",
    "print(name)"
   ]
  },
  {
   "cell_type": "code",
   "execution_count": 15,
   "metadata": {},
   "outputs": [
    {
     "name": "stdout",
     "output_type": "stream",
     "text": [
      "산토끼\n",
      "토끼산\n"
     ]
    }
   ],
   "source": [
    "s1 = \"산\"\n",
    "s2 = \"토끼\"\n",
    "\n",
    "print(s1 + s2)\n",
    "print(s2 + s1)"
   ]
  },
  {
   "cell_type": "code",
   "execution_count": 18,
   "metadata": {},
   "outputs": [
    {
     "name": "stdout",
     "output_type": "stream",
     "text": [
      "15\n",
      "15\n"
     ]
    }
   ],
   "source": [
    "n1 = 3\n",
    "print(n1 + n1 + n1 + n1 +n1)\n",
    "print(n1 * 5)"
   ]
  },
  {
   "cell_type": "code",
   "execution_count": 19,
   "metadata": {},
   "outputs": [
    {
     "name": "stdout",
     "output_type": "stream",
     "text": [
      "*****\n",
      "*****\n"
     ]
    }
   ],
   "source": [
    "s3 = \"*\"\n",
    "print(s3 + s3 + s3 + s3 + s3)\n",
    "print(s3 * 5) #문자열 * 숫자 가능 "
   ]
  },
  {
   "cell_type": "code",
   "execution_count": 23,
   "metadata": {},
   "outputs": [
    {
     "ename": "NameError",
     "evalue": "name '값' is not defined",
     "output_type": "error",
     "traceback": [
      "\u001b[1;31m---------------------------------------------------------------------------\u001b[0m",
      "\u001b[1;31mNameError\u001b[0m                                 Traceback (most recent call last)",
      "\u001b[1;32m<ipython-input-23-7160bbfba581>\u001b[0m in \u001b[0;36m<module>\u001b[1;34m\u001b[0m\n\u001b[1;32m----> 1\u001b[1;33m \u001b[0m변수\u001b[0m \u001b[1;33m=\u001b[0m \u001b[0m값\u001b[0m\u001b[1;33m\u001b[0m\u001b[1;33m\u001b[0m\u001b[0m\n\u001b[0m\u001b[0;32m      2\u001b[0m \u001b[1;34m\"사과\"\u001b[0m \u001b[1;34m\"소나타\"\u001b[0m\u001b[1;33m\u001b[0m\u001b[1;33m\u001b[0m\u001b[0m\n",
      "\u001b[1;31mNameError\u001b[0m: name '값' is not defined"
     ]
    }
   ],
   "source": [
    "변수 = 값\n",
    "\"사과\" \"소나타\""
   ]
  },
  {
   "cell_type": "code",
   "execution_count": 24,
   "metadata": {},
   "outputs": [
    {
     "name": "stdout",
     "output_type": "stream",
     "text": [
      "1110\n"
     ]
    }
   ],
   "source": [
    "n1 = 111\n",
    "#n2 = \"999\"\n",
    "n2 = 999\n",
    "print(n1 + n2) #텍스트와 정수는 계산이 안됌!"
   ]
  },
  {
   "cell_type": "code",
   "execution_count": 28,
   "metadata": {},
   "outputs": [
    {
     "name": "stdout",
     "output_type": "stream",
     "text": [
      "<class 'int'>\n",
      "<class 'str'>\n"
     ]
    }
   ],
   "source": [
    "#type() 데이터타입 / 종류\n",
    "print( type(n1))\n",
    "print( type(\"이정훈\"))"
   ]
  },
  {
   "cell_type": "code",
   "execution_count": 29,
   "metadata": {},
   "outputs": [],
   "source": [
    "name = \"장남수\"\n",
    "neme = \"데이터공방\""
   ]
  },
  {
   "cell_type": "code",
   "execution_count": null,
   "metadata": {},
   "outputs": [],
   "source": [
    "### 데이터를 그룹으로 만들기\n",
    "# 대제목\n",
    "## 중제목\n",
    "### 소제목\n",
    "- 블릿기호\n",
    "- 블릿기호\n",
    "    1. 소제목\n",
    "    2. 소제목\n"
   ]
  },
  {
   "cell_type": "markdown",
   "metadata": {},
   "source": [
    "## 리스트"
   ]
  },
  {
   "cell_type": "code",
   "execution_count": 37,
   "metadata": {},
   "outputs": [
    {
     "name": "stdout",
     "output_type": "stream",
     "text": [
      "['빨강', '노랑', '파랑', '초록']\n"
     ]
    }
   ],
   "source": [
    "# color_list = [원소1, 원소2, 원소3, ...]\n",
    "color_list = ['빨강','노랑','파랑','초록']\n",
    "print(color_list)"
   ]
  },
  {
   "cell_type": "code",
   "execution_count": 38,
   "metadata": {},
   "outputs": [
    {
     "name": "stdout",
     "output_type": "stream",
     "text": [
      "4\n"
     ]
    }
   ],
   "source": [
    "# len() : length 길이가 어떻게 돼? 원소의 개수\n",
    "print(len(color_list))"
   ]
  },
  {
   "cell_type": "code",
   "execution_count": 42,
   "metadata": {},
   "outputs": [
    {
     "name": "stdout",
     "output_type": "stream",
     "text": [
      "빨강\n",
      "노랑\n",
      "파랑\n",
      "파랑\n",
      "파랑\n",
      "노랑\n",
      "노랑\n"
     ]
    }
   ],
   "source": [
    "#color_list 안에서 첫 번째 꺼.. 화장실 색상으로 해줘\n",
    "#color_list 두번째꺼는 안방 색상으로 해줘..\n",
    "\n",
    "#color_list[몇번째꺼] : index 번호 0부터 시작 \n",
    "print(color_list[0])\n",
    "print(color_list[1])\n",
    "print(color_list[2])\n",
    "print(color_list[len(color_list)-2])\n",
    "print(color_list[               -2])\n",
    "\n",
    "print(color_list[1])\n",
    "print(color_list[-3])"
   ]
  },
  {
   "cell_type": "code",
   "execution_count": 44,
   "metadata": {},
   "outputs": [
    {
     "name": "stdout",
     "output_type": "stream",
     "text": [
      "['노랑', '파랑']\n"
     ]
    }
   ],
   "source": [
    "# : --> 어디부터 어디까지 .... 구간 \n",
    "# ()--> 명령어() \"명령어 실행해줘\"\n",
    "# []--> 변수[]   \"변수에서 어떤 부분 선택할래\"\n",
    "# {}--> \n",
    "\n",
    "# 구간\n",
    "color_list = ['빨강','노랑','파랑','초록']\n",
    "\n",
    "#슬라이싱 \n",
    "#print(color_list[시작:끝])\n",
    "print(color_list[1:3]) #시작부분은 포함 끝은 포함 x 이상부터 미만까지 느낌 "
   ]
  },
  {
   "cell_type": "code",
   "execution_count": 45,
   "metadata": {},
   "outputs": [
    {
     "name": "stdout",
     "output_type": "stream",
     "text": [
      "['류승범', '이병헌', '김태리']\n"
     ]
    }
   ],
   "source": [
    "movie_star = ['류승범','이병헌','김태리']\n",
    "print(movie_star)"
   ]
  },
  {
   "cell_type": "code",
   "execution_count": 47,
   "metadata": {},
   "outputs": [
    {
     "name": "stdout",
     "output_type": "stream",
     "text": [
      "['류승범', '이병헌', '김태리', '송강호']\n"
     ]
    }
   ],
   "source": [
    "#송강호..\n",
    "#movie_star \"송강호 추가해줘...\"\n",
    "#list.append()\n",
    "movie_star.append('송강호') #나중에 크롤링한 데이터를 추가해주는데 사용함 \n",
    "print(movie_star)"
   ]
  },
  {
   "cell_type": "code",
   "execution_count": null,
   "metadata": {},
   "outputs": [],
   "source": [
    "bset_seller_list =[]\n",
    "\n",
    "book_data = ['책제목','책가격','책출판사1']\n",
    "best_seller_list.append(book_data)"
   ]
  },
  {
   "cell_type": "code",
   "execution_count": null,
   "metadata": {},
   "outputs": [],
   "source": [
    "best_seller_list = [\n",
    "    ['책제목','책가격','책출판사1'],\n",
    "    ['책제목','책가격','책출판사1'],\n",
    "    ['책제목','책가격','책출판사1'],\n",
    "    ['책제목','책가격','책출판사1'],\n",
    "    ['책제목','책가격','책출판사1']\n",
    "]"
   ]
  },
  {
   "cell_type": "code",
   "execution_count": null,
   "metadata": {},
   "outputs": [],
   "source": [
    "변수 = 값 # 숫자, int/float 문자 \"장남수\",  리스트[원소, 원소,]"
   ]
  },
  {
   "cell_type": "code",
   "execution_count": null,
   "metadata": {},
   "outputs": [],
   "source": [
    "리스트.append()"
   ]
  },
  {
   "cell_type": "code",
   "execution_count": 52,
   "metadata": {},
   "outputs": [
    {
     "name": "stdout",
     "output_type": "stream",
     "text": [
      "[]\n",
      "[['제목', '가수', '좋아요수']]\n",
      "[['제목', '가수', '좋아요수'], ['제목2', '가수2', '좋아요수2']]\n"
     ]
    }
   ],
   "source": [
    "#리스트 추가 설명\n",
    "#크롤링 진행시라고 가정. \n",
    "results = [] #전체 데이터가 담길 공간 / 리스트\n",
    "print(results)\n",
    "\n",
    "#첫번째 노래 정보 수집\n",
    "song_data = ['제목','가수','좋아요수']\n",
    "#전체 데이터에 추가\n",
    "results.append(song_data)\n",
    "print(results)\n",
    "\n",
    "#두번째 노래정보 수집\n",
    "song_data = ['제목2','가수2','좋아요수2']\n",
    "#전체데이터에 추가\n",
    "results.append(song_data)\n",
    "print(results)"
   ]
  },
  {
   "cell_type": "code",
   "execution_count": null,
   "metadata": {},
   "outputs": [],
   "source": [
    "data = ['2020-01-01','장남수','010-1111-1111']"
   ]
  },
  {
   "cell_type": "code",
   "execution_count": 53,
   "metadata": {},
   "outputs": [],
   "source": [
    "#딕셔너리 = {'이름(key)':'값','이름':'값','이름':'값','이름':'값'}\n",
    "\n",
    "data = {\n",
    "    '일자' : '2020-01-01',\n",
    "    '이름' : '홍길동',\n",
    "    '전화번호' : '010-3013-4409'\n",
    "}"
   ]
  },
  {
   "cell_type": "code",
   "execution_count": 54,
   "metadata": {},
   "outputs": [
    {
     "data": {
      "text/plain": [
       "'010-3013-4409'"
      ]
     },
     "execution_count": 54,
     "metadata": {},
     "output_type": "execute_result"
    }
   ],
   "source": [
    "data['전화번호']"
   ]
  }
 ],
 "metadata": {
  "kernelspec": {
   "display_name": "Python 3",
   "language": "python",
   "name": "python3"
  },
  "language_info": {
   "codemirror_mode": {
    "name": "ipython",
    "version": 3
   },
   "file_extension": ".py",
   "mimetype": "text/x-python",
   "name": "python",
   "nbconvert_exporter": "python",
   "pygments_lexer": "ipython3",
   "version": "3.8.3"
  }
 },
 "nbformat": 4,
 "nbformat_minor": 4
}
